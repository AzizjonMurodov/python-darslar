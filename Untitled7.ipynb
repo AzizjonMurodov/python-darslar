{
  "nbformat": 4,
  "nbformat_minor": 0,
  "metadata": {
    "colab": {
      "provenance": [],
      "authorship_tag": "ABX9TyP5S+TIeecNk0E712XJZzxn",
      "include_colab_link": true
    },
    "kernelspec": {
      "name": "python3",
      "display_name": "Python 3"
    },
    "language_info": {
      "name": "python"
    }
  },
  "cells": [
    {
      "cell_type": "markdown",
      "metadata": {
        "id": "view-in-github",
        "colab_type": "text"
      },
      "source": [
        "<a href=\"https://colab.research.google.com/github/AzizjonMurodov/python-darslar/blob/main/Untitled7.ipynb\" target=\"_parent\"><img src=\"https://colab.research.google.com/assets/colab-badge.svg\" alt=\"Open In Colab\"/></a>"
      ]
    },
    {
      "cell_type": "code",
      "execution_count": null,
      "metadata": {
        "id": "QyLhlNDWv8CO"
      },
      "outputs": [],
      "source": []
    },
    {
      "cell_type": "markdown",
      "source": [
        "Unversal funksiyalar\n"
      ],
      "metadata": {
        "id": "4XbUIOM7yost"
      }
    },
    {
      "cell_type": "code",
      "source": [
        "import numpy as np\n"
      ],
      "metadata": {
        "id": "hUrTXGtGytrK"
      },
      "execution_count": 4,
      "outputs": []
    },
    {
      "cell_type": "code",
      "source": [
        "arr = np.arange(10)\n",
        "arr"
      ],
      "metadata": {
        "colab": {
          "base_uri": "https://localhost:8080/"
        },
        "id": "IHprUH8c2EYC",
        "outputId": "7590e80a-e7d9-431e-eaa7-2e85dd3062c5"
      },
      "execution_count": 5,
      "outputs": [
        {
          "output_type": "execute_result",
          "data": {
            "text/plain": [
              "array([0, 1, 2, 3, 4, 5, 6, 7, 8, 9])"
            ]
          },
          "metadata": {},
          "execution_count": 5
        }
      ]
    },
    {
      "cell_type": "code",
      "source": [
        "np.sqrt(arr)"
      ],
      "metadata": {
        "colab": {
          "base_uri": "https://localhost:8080/"
        },
        "id": "dAoE6XdX2elO",
        "outputId": "7f051b03-22c1-4bff-bd7f-bb0c0103e515"
      },
      "execution_count": 7,
      "outputs": [
        {
          "output_type": "execute_result",
          "data": {
            "text/plain": [
              "array([0.        , 1.        , 1.41421356, 1.73205081, 2.        ,\n",
              "       2.23606798, 2.44948974, 2.64575131, 2.82842712, 3.        ])"
            ]
          },
          "metadata": {},
          "execution_count": 7
        }
      ]
    },
    {
      "cell_type": "code",
      "source": [],
      "metadata": {
        "id": "FF6iWs_23z97"
      },
      "execution_count": 8,
      "outputs": []
    },
    {
      "cell_type": "code",
      "source": [
        "np.square(arr)"
      ],
      "metadata": {
        "id": "4poGsfYh3-2n",
        "outputId": "3f76c849-027d-467d-b596-a61e27ee94b5",
        "colab": {
          "base_uri": "https://localhost:8080/"
        }
      },
      "execution_count": 9,
      "outputs": [
        {
          "output_type": "execute_result",
          "data": {
            "text/plain": [
              "array([ 0,  1,  4,  9, 16, 25, 36, 49, 64, 81])"
            ]
          },
          "metadata": {},
          "execution_count": 9
        }
      ]
    },
    {
      "cell_type": "code",
      "source": [
        "arr1 = np.random.randn(6)\n",
        "arr1"
      ],
      "metadata": {
        "id": "McvPZGrJ5BEW",
        "outputId": "ed463f65-1237-47a3-a330-c11bee7636f2",
        "colab": {
          "base_uri": "https://localhost:8080/"
        }
      },
      "execution_count": 14,
      "outputs": [
        {
          "output_type": "execute_result",
          "data": {
            "text/plain": [
              "array([-0.37647649,  1.39701256, -2.28276702, -0.30658819,  0.35062807,\n",
              "        0.8087916 ])"
            ]
          },
          "metadata": {},
          "execution_count": 14
        }
      ]
    },
    {
      "cell_type": "code",
      "source": [
        "np.modf(arr1)"
      ],
      "metadata": {
        "id": "fpyebvvY8UlN",
        "outputId": "21e263ca-2a3a-4a91-c622-275eb5590d6e",
        "colab": {
          "base_uri": "https://localhost:8080/"
        }
      },
      "execution_count": 15,
      "outputs": [
        {
          "output_type": "execute_result",
          "data": {
            "text/plain": [
              "(array([-0.37647649,  0.39701256, -0.28276702, -0.30658819,  0.35062807,\n",
              "         0.8087916 ]),\n",
              " array([-0.,  1., -2., -0.,  0.,  0.]))"
            ]
          },
          "metadata": {},
          "execution_count": 15
        }
      ]
    },
    {
      "cell_type": "code",
      "source": [
        "qoldiq , butun = np.modf(arr1)"
      ],
      "metadata": {
        "id": "bVa1SuNA8hkb"
      },
      "execution_count": 16,
      "outputs": []
    },
    {
      "cell_type": "code",
      "source": [
        "print(qoldiq)\n",
        "print(butun)"
      ],
      "metadata": {
        "id": "bUXrGHpl9EQq",
        "outputId": "6a9e3034-f9d8-476c-b94b-67754bd60fc9",
        "colab": {
          "base_uri": "https://localhost:8080/"
        }
      },
      "execution_count": 17,
      "outputs": [
        {
          "output_type": "stream",
          "name": "stdout",
          "text": [
            "[-0.37647649  0.39701256 -0.28276702 -0.30658819  0.35062807  0.8087916 ]\n",
            "[-0.  1. -2. -0.  0.  0.]\n"
          ]
        }
      ]
    },
    {
      "cell_type": "code",
      "source": [
        "arr2 = np.random.randn(6)\n",
        "arr3 = np.random.randn(6)"
      ],
      "metadata": {
        "id": "nMn1sUwtBbNa"
      },
      "execution_count": 22,
      "outputs": []
    },
    {
      "cell_type": "code",
      "source": [
        "arr2"
      ],
      "metadata": {
        "id": "VypHENIi9Iqv",
        "outputId": "9db10a92-0bf3-44c6-8174-1133ea0f44bc",
        "colab": {
          "base_uri": "https://localhost:8080/"
        }
      },
      "execution_count": 19,
      "outputs": [
        {
          "output_type": "execute_result",
          "data": {
            "text/plain": [
              "array([-0.3074563 ,  1.76854464, -3.98061535, -0.22857579,  0.13747511,\n",
              "        0.25246523])"
            ]
          },
          "metadata": {},
          "execution_count": 19
        }
      ]
    },
    {
      "cell_type": "code",
      "source": [
        "arr3"
      ],
      "metadata": {
        "id": "uOBpJHw8BnaN",
        "outputId": "8290c6c2-d7a5-487e-b390-fcf02c01a272",
        "colab": {
          "base_uri": "https://localhost:8080/"
        }
      },
      "execution_count": 20,
      "outputs": [
        {
          "output_type": "execute_result",
          "data": {
            "text/plain": [
              "array([-0.67702247,  0.20372373, -0.89636835,  0.48031552])"
            ]
          },
          "metadata": {},
          "execution_count": 20
        }
      ]
    },
    {
      "cell_type": "code",
      "source": [
        "np.add(arr2, arr3)"
      ],
      "metadata": {
        "id": "PQy67Q7_BoFU",
        "outputId": "087c0a8f-78c4-4e3c-a507-79f8d0906c06",
        "colab": {
          "base_uri": "https://localhost:8080/"
        }
      },
      "execution_count": 23,
      "outputs": [
        {
          "output_type": "execute_result",
          "data": {
            "text/plain": [
              "array([-0.44202173,  0.63975983,  0.69646155, -0.12698291,  2.46932123,\n",
              "        2.00641556])"
            ]
          },
          "metadata": {},
          "execution_count": 23
        }
      ]
    },
    {
      "cell_type": "code",
      "source": [],
      "metadata": {
        "id": "K8Eo8GnLBsfd"
      },
      "execution_count": null,
      "outputs": []
    }
  ]
}